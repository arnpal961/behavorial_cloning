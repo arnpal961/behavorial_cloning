{
 "cells": [
  {
   "cell_type": "code",
   "execution_count": 1,
   "metadata": {
    "collapsed": true
   },
   "outputs": [],
   "source": [
    "import os"
   ]
  },
  {
   "cell_type": "code",
   "execution_count": 2,
   "metadata": {
    "collapsed": true
   },
   "outputs": [],
   "source": [
    "import numpy as np\n",
    "import pandas as pd"
   ]
  },
  {
   "cell_type": "code",
   "execution_count": 3,
   "metadata": {
    "collapsed": true
   },
   "outputs": [],
   "source": [
    "import matplotlib.pyplot as plt\n",
    "import matplotlib.image as mpimg"
   ]
  },
  {
   "cell_type": "code",
   "execution_count": 4,
   "metadata": {},
   "outputs": [
    {
     "name": "stderr",
     "output_type": "stream",
     "text": [
      "Using TensorFlow backend.\n"
     ]
    }
   ],
   "source": [
    "import keras\n",
    "from keras import backend as K\n",
    "from keras.optimizers import Adam\n",
    "from keras.models import Sequential\n",
    "from keras.layers import Dense,Activation,Conv2D,Dropout,MaxPooling2D\n",
    "from keras.layers import Flatten,Lambda,Cropping2D,BatchNormalization\n",
    "from keras.callbacks import ModelCheckpoint,TensorBoard"
   ]
  },
  {
   "cell_type": "code",
   "execution_count": 5,
   "metadata": {
    "collapsed": true
   },
   "outputs": [],
   "source": [
    "from sklearn.utils import shuffle\n",
    "from sklearn.model_selection import train_test_split"
   ]
  },
  {
   "cell_type": "code",
   "execution_count": 6,
   "metadata": {
    "collapsed": true
   },
   "outputs": [],
   "source": [
    "img = os.listdir('./IMG/')"
   ]
  },
  {
   "cell_type": "code",
   "execution_count": 7,
   "metadata": {},
   "outputs": [
    {
     "data": {
      "text/plain": [
       "158319"
      ]
     },
     "execution_count": 7,
     "metadata": {},
     "output_type": "execute_result"
    }
   ],
   "source": [
    "#Number of samples\n",
    "len(img)"
   ]
  },
  {
   "cell_type": "code",
   "execution_count": 6,
   "metadata": {
    "collapsed": true
   },
   "outputs": [],
   "source": [
    "CF = 0.27\n",
    "LR = 1e-3\n",
    "DECAY = 0.99\n",
    "samples = pd.read_csv('data/driving_log.csv')"
   ]
  },
  {
   "cell_type": "code",
   "execution_count": 10,
   "metadata": {
    "collapsed": true
   },
   "outputs": [],
   "source": [
    "def flipped(data):\n",
    "    return np.flip(data,axis=1)"
   ]
  },
  {
   "cell_type": "code",
   "execution_count": 7,
   "metadata": {
    "collapsed": true
   },
   "outputs": [],
   "source": [
    "steering_center = samples.steering\n",
    "steering_left = steering_center + CF \n",
    "steering_right = steering_center - CF\n",
    "\n",
    "steering_angle = np.concatenate((steering_center,steering_left,steering_right))"
   ]
  },
  {
   "cell_type": "code",
   "execution_count": 8,
   "metadata": {
    "collapsed": true
   },
   "outputs": [],
   "source": [
    "center_images = list(samples.center)\n",
    "left_images = list(samples.left)\n",
    "right_images = list(samples.right)\n",
    "\n",
    "sample_images = []\n",
    "sample_images += center_images\n",
    "sample_images += left_images\n",
    "sample_images += right_images"
   ]
  },
  {
   "cell_type": "code",
   "execution_count": null,
   "metadata": {
    "collapsed": true
   },
   "outputs": [],
   "source": [
    "flipped_images = list(map(lambda x:'flipped_'+ x,sample_images))\n",
    "sample_images = sample_images + flipped_images\n",
    "steering_angle = np.concatenate((steering_angle,steering_angle*(-1)))"
   ]
  },
  {
   "cell_type": "code",
   "execution_count": 9,
   "metadata": {
    "collapsed": true
   },
   "outputs": [],
   "source": [
    "X_data = sample_images\n",
    "y_data = steering_angle\n",
    "\n",
    "X_train,X_validation,y_train,y_validation = train_test_split(X_data,y_data,test_size=0.2)\n",
    "\n",
    "X_train,y_train = shuffle(X_train,y_train)"
   ]
  },
  {
   "cell_type": "code",
   "execution_count": null,
   "metadata": {
    "collapsed": true
   },
   "outputs": [],
   "source": [
    "train_data = {'X':X_train,'y':y_train}\n",
    "validation_data = {'X':X_validation,'y':y_validation}"
   ]
  },
  {
   "cell_type": "code",
   "execution_count": 11,
   "metadata": {
    "collapsed": true
   },
   "outputs": [],
   "source": [
    "def generator(data,batch_size):\n",
    "    \n",
    "    num_samples = len(data['X'])\n",
    "    xdata,ydata = data['X'],data['y']\n",
    "    \n",
    "    while True:\n",
    "        for offset in range(0,num_samples,batch_size):\n",
    "            xbatch_samples = xdata[offset:offset+batch_size]\n",
    "            ybatch_samples = ydata[offset:offset+batch_size]\n",
    "            \n",
    "            images = []\n",
    "            for batch_sample in xbatch_samples:\n",
    "                if batch_sample.startswith('flipped_'):\n",
    "                    img = mpimg.imread(os.path.join('IMG',batch_sample.replace('flipped_','')))\n",
    "                    img = flipped(img)\n",
    "                    images.append(img)\n",
    "                else:\n",
    "                    img = mpimg.imread(os.path.join('IMG',batch_sample))\n",
    "                    images.append(img)\n",
    "    \n",
    "            \n",
    "            X_batch = np.array(images)\n",
    "            y_batch = ybatch_samples\n",
    "            yield shuffle(X_batch,y_batch)"
   ]
  },
  {
   "cell_type": "code",
   "execution_count": 12,
   "metadata": {
    "collapsed": true
   },
   "outputs": [],
   "source": [
    "train_generator = generator(train_data,batch_size=128) \n",
    "validation_generator = generator(validation_data,batch_size=128)"
   ]
  },
  {
   "cell_type": "code",
   "execution_count": 14,
   "metadata": {
    "collapsed": true
   },
   "outputs": [],
   "source": [
    "### Alexnet Structure\n",
    "\n",
    "alexnet_model = Sequential()\n",
    "\n",
    "alexnet_model.add(Cropping2D(cropping=((65,40),(0,0)),\n",
    "                     input_shape=(160,320,3)))\n",
    "alexnet_model.add(Lambda(lambda x:K.tf.image.resize_images(x,(224,224),\n",
    "                                                      method=K.tf.image.ResizeMethod.NEAREST_NEIGHBOR)))\n",
    "alexnet_model.add(Lambda(lambda x:((x-K.mean(x))/K.std(x))))\n",
    "alexnet_model.add(Conv2D(96,(11,11),strides=(4,4),padding='same',\n",
    "                     activation='elu'))\n",
    "alexnet_model.add(BatchNormalization())\n",
    "alexnet_model.add(MaxPooling2D(pool_size=(3,3),strides=(2,2)))\n",
    "\n",
    "alexnet_model.add(Conv2D(256,(5,5),strides=(1,1),padding='same',activation='elu'))\n",
    "alexnet_model.add(BatchNormalization())\n",
    "alexnet_model.add(MaxPooling2D(pool_size=(3,3),strides=(2,2)))\n",
    "\n",
    "alexnet_model.add(Conv2D(384,(3,3),strides=(1,1),padding='same',activation='elu'))\n",
    "\n",
    "alexnet_model.add(Conv2D(384,(3,3),strides=(1,1),padding='same',activation='elu'))\n",
    "\n",
    "alexnet_model.add(Conv2D(256,(3,3),strides=(1,1),padding='same',activation='elu'))\n",
    "alexnet_model.add(MaxPooling2D(pool_size=(3,3),strides=(2,2)))\n",
    "\n",
    "alexnet_model.add(Flatten())\n",
    "\n",
    "alexnet_model.add(Dense(100,activation='elu'))\n",
    "alexnet_model.add(Dense(50,activation='elu'))\n",
    "alexnet_model.add(Dense(10,activation='elu'))\n",
    "alexnet_model.add(Dense(1))"
   ]
  },
  {
   "cell_type": "code",
   "execution_count": 15,
   "metadata": {},
   "outputs": [
    {
     "name": "stdout",
     "output_type": "stream",
     "text": [
      "_________________________________________________________________\n",
      "Layer (type)                 Output Shape              Param #   \n",
      "=================================================================\n",
      "cropping2d_1 (Cropping2D)    (None, 55, 320, 3)        0         \n",
      "_________________________________________________________________\n",
      "lambda_1 (Lambda)            (None, 224, 224, 3)       0         \n",
      "_________________________________________________________________\n",
      "lambda_2 (Lambda)            (None, 224, 224, 3)       0         \n",
      "_________________________________________________________________\n",
      "conv2d_1 (Conv2D)            (None, 56, 56, 96)        34944     \n",
      "_________________________________________________________________\n",
      "batch_normalization_1 (Batch (None, 56, 56, 96)        384       \n",
      "_________________________________________________________________\n",
      "max_pooling2d_1 (MaxPooling2 (None, 27, 27, 96)        0         \n",
      "_________________________________________________________________\n",
      "conv2d_2 (Conv2D)            (None, 27, 27, 256)       614656    \n",
      "_________________________________________________________________\n",
      "batch_normalization_2 (Batch (None, 27, 27, 256)       1024      \n",
      "_________________________________________________________________\n",
      "max_pooling2d_2 (MaxPooling2 (None, 13, 13, 256)       0         \n",
      "_________________________________________________________________\n",
      "conv2d_3 (Conv2D)            (None, 13, 13, 384)       885120    \n",
      "_________________________________________________________________\n",
      "conv2d_4 (Conv2D)            (None, 13, 13, 384)       1327488   \n",
      "_________________________________________________________________\n",
      "conv2d_5 (Conv2D)            (None, 13, 13, 256)       884992    \n",
      "_________________________________________________________________\n",
      "max_pooling2d_3 (MaxPooling2 (None, 6, 6, 256)         0         \n",
      "_________________________________________________________________\n",
      "flatten_1 (Flatten)          (None, 9216)              0         \n",
      "_________________________________________________________________\n",
      "dense_1 (Dense)              (None, 100)               921700    \n",
      "_________________________________________________________________\n",
      "dense_2 (Dense)              (None, 50)                5050      \n",
      "_________________________________________________________________\n",
      "dense_3 (Dense)              (None, 10)                510       \n",
      "_________________________________________________________________\n",
      "dense_4 (Dense)              (None, 1)                 11        \n",
      "=================================================================\n",
      "Total params: 4,675,879\n",
      "Trainable params: 4,675,175\n",
      "Non-trainable params: 704\n",
      "_________________________________________________________________\n"
     ]
    }
   ],
   "source": [
    "alexnet_model.summary()"
   ]
  },
  {
   "cell_type": "code",
   "execution_count": 15,
   "metadata": {},
   "outputs": [
    {
     "name": "stdout",
     "output_type": "stream",
     "text": [
      "Epoch 1/5\n",
      "469/468 [==============================] - 287s - loss: 0.5945 - val_loss: 0.0894\n",
      "Epoch 2/5\n",
      "469/468 [==============================] - 272s - loss: 0.0847 - val_loss: 0.0848\n",
      "Epoch 3/5\n",
      "469/468 [==============================] - 273s - loss: 0.0816 - val_loss: 0.0823\n",
      "Epoch 4/5\n",
      "469/468 [==============================] - 271s - loss: 0.0795 - val_loss: 0.0805\n",
      "Epoch 5/5\n",
      "469/468 [==============================] - 274s - loss: 0.0779 - val_loss: 0.0790\n"
     ]
    }
   ],
   "source": [
    "adam = Adam(lr=LR,decay=DECAY)\n",
    "alexnet_model.compile(loss='mse',optimizer=adam)\n",
    "\n",
    "alexnet_model.fit_generator(train_generator,\n",
    "                        steps_per_epoch=len(X_train)/128,\n",
    "                        callbacks=[ModelCheckpoint('weights.{epoch:02d}-{val_loss:.2f}.hdf5'),\n",
    "                                   TensorBoard(log_dir='./logdir/',\n",
    "                                               histogram_freq=1,\n",
    "                                               batch_size=32,\n",
    "                                               write_grads=True)],\n",
    "                        validation_data=validation_generator,\n",
    "                        validation_steps=len(X_validation)/128,\n",
    "                        epochs=5)\n",
    "\n",
    "alexnet_model.save('alexnet_model_k2.h5')"
   ]
  },
  {
   "cell_type": "code",
   "execution_count": 16,
   "metadata": {
    "collapsed": true,
    "scrolled": false
   },
   "outputs": [],
   "source": [
    "nvidia_model = Sequential()\n",
    "\n",
    "nvidia_model.add(Cropping2D(cropping=((65,40),(0,0)),input_shape=(160,320,3)))\n",
    "nvidia_model.add(Lambda(lambda x:K.tf.image.resize_images(x,(66,200),\n",
    "                                                          method=K.tf.image.ResizeMethod.NEAREST_NEIGHBOR)))\n",
    "nvidia_model.add(Lambda(lambda x:((x-K.mean(x))/K.std(x))))\n",
    "\n",
    "nvidia_model.add(Conv2D(24,(5,5),strides=(2,2),activation='elu',padding='valid'))\n",
    "nvidia_model.add(Conv2D(36,(5,5),strides=(2,2),activation='elu',padding='valid'))\n",
    "nvidia_model.add(Conv2D(48,(5,5),strides=(2,2),activation='elu',padding='valid'))\n",
    "nvidia_model.add(Conv2D(64,(3,3),strides=(1,1),activation='elu',padding='valid'))\n",
    "nvidia_model.add(Conv2D(64,(3,3),strides=(1,1),activation='elu',padding='valid'))\n",
    "nvidia_model.add(Activation('elu'))\n",
    "\n",
    "nvidia_model.add(Flatten())\n",
    "nvidia_model.add(Dense(100,activation='elu'))\n",
    "nvidia_model.add(Dense(50,activation='elu'))\n",
    "nvidia_model.add(Dense(10,activation='elu'))\n",
    "nvidia_model.add(Dense(1))\n",
    "\n",
    "adam = Adam(lr=LR,decay=DECAY)\n",
    "nvidia_model.compile(loss='mse',optimizer=adam)"
   ]
  },
  {
   "cell_type": "code",
   "execution_count": 17,
   "metadata": {},
   "outputs": [
    {
     "name": "stdout",
     "output_type": "stream",
     "text": [
      "_________________________________________________________________\n",
      "Layer (type)                 Output Shape              Param #   \n",
      "=================================================================\n",
      "cropping2d_2 (Cropping2D)    (None, 55, 320, 3)        0         \n",
      "_________________________________________________________________\n",
      "lambda_3 (Lambda)            (None, 66, 200, 3)        0         \n",
      "_________________________________________________________________\n",
      "lambda_4 (Lambda)            (None, 66, 200, 3)        0         \n",
      "_________________________________________________________________\n",
      "conv2d_6 (Conv2D)            (None, 31, 98, 24)        1824      \n",
      "_________________________________________________________________\n",
      "conv2d_7 (Conv2D)            (None, 14, 47, 36)        21636     \n",
      "_________________________________________________________________\n",
      "conv2d_8 (Conv2D)            (None, 5, 22, 48)         43248     \n",
      "_________________________________________________________________\n",
      "conv2d_9 (Conv2D)            (None, 3, 20, 64)         27712     \n",
      "_________________________________________________________________\n",
      "conv2d_10 (Conv2D)           (None, 1, 18, 64)         36928     \n",
      "_________________________________________________________________\n",
      "activation_1 (Activation)    (None, 1, 18, 64)         0         \n",
      "_________________________________________________________________\n",
      "flatten_2 (Flatten)          (None, 1152)              0         \n",
      "_________________________________________________________________\n",
      "dense_5 (Dense)              (None, 100)               115300    \n",
      "_________________________________________________________________\n",
      "dense_6 (Dense)              (None, 50)                5050      \n",
      "_________________________________________________________________\n",
      "dense_7 (Dense)              (None, 10)                510       \n",
      "_________________________________________________________________\n",
      "dense_8 (Dense)              (None, 1)                 11        \n",
      "=================================================================\n",
      "Total params: 252,219\n",
      "Trainable params: 252,219\n",
      "Non-trainable params: 0\n",
      "_________________________________________________________________\n"
     ]
    }
   ],
   "source": [
    "nvidia_model.summary()"
   ]
  },
  {
   "cell_type": "code",
   "execution_count": 14,
   "metadata": {},
   "outputs": [
    {
     "name": "stdout",
     "output_type": "stream",
     "text": [
      "Epoch 1/2\n",
      "469/468 [==============================] - 212s - loss: 0.0962 - val_loss: 0.0894\n",
      "Epoch 2/2\n",
      "469/468 [==============================] - 204s - loss: 0.0892 - val_loss: 0.0903\n"
     ]
    }
   ],
   "source": [
    "nvidia_model.fit_generator(train_generator,\n",
    "                    steps_per_epoch=len(X_train)/128,\n",
    "                    callbacks=[ModelCheckpoint('weights.{epoch:02d}-{val_loss:.2f}.hdf5'),\n",
    "                               TensorBoard(log_dir='./logdir/',\n",
    "                                           histogram_freq=1,\n",
    "                                           batch_size=32,\n",
    "                                           write_grads=True)],\n",
    "                    validation_data=validation_generator,\n",
    "                    validation_steps=len(X_validation)/128,\n",
    "                    epochs=5)\n",
    "\n",
    "nvidia_model.save('model_k2.h5')"
   ]
  },
  {
   "cell_type": "code",
   "execution_count": 18,
   "metadata": {
    "collapsed": true
   },
   "outputs": [],
   "source": [
    "#ZFNet MOdel Architecture\n",
    "zfnet_model = Sequential()\n",
    "zfnet_model.add(Cropping2D(cropping=((65,40),(0,0)),input_shape=(160,320,3)))\n",
    "zfnet_model.add(Lambda(lambda x:K.tf.image.resize_images(x,(224,224),\n",
    "                                                         method=K.tf.image.ResizeMethod.NEAREST_NEIGHBOR)))\n",
    "zfnet_model.add(Lambda(lambda x:((x-K.mean(x))/K.std(x))))\n",
    "zfnet_model.add(Conv2D(96,(7,7),strides=(2,2),padding='same',\n",
    "                     activation='elu'))\n",
    "zfnet_model.add(BatchNormalization())\n",
    "zfnet_model.add(MaxPooling2D(pool_size=(3,3),strides=(2,2)))\n",
    "\n",
    "zfnet_model.add(Conv2D(256,(5,5),strides=(1,1),padding='same',activation='elu'))\n",
    "zfnet_model.add(BatchNormalization())\n",
    "zfnet_model.add(MaxPooling2D(pool_size=(3,3),strides=(2,2)))\n",
    "\n",
    "zfnet_model.add(Conv2D(512,(3,3),strides=(1,1),padding='same',activation='elu'))\n",
    "\n",
    "zfnet_model.add(Conv2D(1024,(3,3),strides=(1,1),padding='same',activation='elu'))\n",
    "\n",
    "zfnet_model.add(Conv2D(512,(3,3),strides=(1,1),padding='same',activation='elu'))\n",
    "zfnet_model.add(MaxPooling2D(pool_size=(3,3),strides=(2,2)))\n",
    "\n",
    "zfnet_model.add(Flatten())\n",
    "\n",
    "zfnet_model.add(Dense(100,activation='elu'))\n",
    "zfnet_model.add(Dense(50,activation='elu'))\n",
    "zfnet_model.add(Dense(10,activation='elu'))\n",
    "zfnet_model.add(Dense(1))\n",
    "\n",
    "adam = Adam(lr=LR,decay=DECAY)\n",
    "zfnet_model.compile(loss='mse',optimizer=adam)"
   ]
  },
  {
   "cell_type": "code",
   "execution_count": 19,
   "metadata": {},
   "outputs": [
    {
     "name": "stdout",
     "output_type": "stream",
     "text": [
      "_________________________________________________________________\n",
      "Layer (type)                 Output Shape              Param #   \n",
      "=================================================================\n",
      "cropping2d_3 (Cropping2D)    (None, 55, 320, 3)        0         \n",
      "_________________________________________________________________\n",
      "lambda_5 (Lambda)            (None, 224, 224, 3)       0         \n",
      "_________________________________________________________________\n",
      "lambda_6 (Lambda)            (None, 224, 224, 3)       0         \n",
      "_________________________________________________________________\n",
      "conv2d_11 (Conv2D)           (None, 112, 112, 96)      14208     \n",
      "_________________________________________________________________\n",
      "batch_normalization_3 (Batch (None, 112, 112, 96)      384       \n",
      "_________________________________________________________________\n",
      "max_pooling2d_4 (MaxPooling2 (None, 55, 55, 96)        0         \n",
      "_________________________________________________________________\n",
      "conv2d_12 (Conv2D)           (None, 55, 55, 256)       614656    \n",
      "_________________________________________________________________\n",
      "batch_normalization_4 (Batch (None, 55, 55, 256)       1024      \n",
      "_________________________________________________________________\n",
      "max_pooling2d_5 (MaxPooling2 (None, 27, 27, 256)       0         \n",
      "_________________________________________________________________\n",
      "conv2d_13 (Conv2D)           (None, 27, 27, 512)       1180160   \n",
      "_________________________________________________________________\n",
      "conv2d_14 (Conv2D)           (None, 27, 27, 1024)      4719616   \n",
      "_________________________________________________________________\n",
      "conv2d_15 (Conv2D)           (None, 27, 27, 512)       4719104   \n",
      "_________________________________________________________________\n",
      "max_pooling2d_6 (MaxPooling2 (None, 13, 13, 512)       0         \n",
      "_________________________________________________________________\n",
      "flatten_3 (Flatten)          (None, 86528)             0         \n",
      "_________________________________________________________________\n",
      "dense_9 (Dense)              (None, 100)               8652900   \n",
      "_________________________________________________________________\n",
      "dense_10 (Dense)             (None, 50)                5050      \n",
      "_________________________________________________________________\n",
      "dense_11 (Dense)             (None, 10)                510       \n",
      "_________________________________________________________________\n",
      "dense_12 (Dense)             (None, 1)                 11        \n",
      "=================================================================\n",
      "Total params: 19,907,623\n",
      "Trainable params: 19,906,919\n",
      "Non-trainable params: 704\n",
      "_________________________________________________________________\n"
     ]
    }
   ],
   "source": [
    "zfnet_model.summary()"
   ]
  },
  {
   "cell_type": "code",
   "execution_count": null,
   "metadata": {
    "collapsed": true
   },
   "outputs": [],
   "source": [
    "zfnet_model.fit_generator(train_generator,\n",
    "                          steps_per_epoch=len(X_train)/32,\n",
    "                          callbacks=[ModelCheckpoint('weights.{epoch:02d}-{val_loss:.2f}.hdf5'),\n",
    "                                     TensorBoard(log_dir='./logdir/',\n",
    "                                                 histogram_freq=1,\n",
    "                                                 batch_size=32,\n",
    "                                                 write_grads=True)],\n",
    "                          validation_data=validation_generator,\n",
    "                          validation_steps=len(X_validation)/32,\n",
    "                          epochs=5)\n",
    "\n",
    "zfnet_model.save('zfnet_model_k2.h5')"
   ]
  },
  {
   "cell_type": "code",
   "execution_count": 18,
   "metadata": {
    "collapsed": true
   },
   "outputs": [],
   "source": [
    "#VGG-19 Model architecture\n",
    "vgg_model = Sequential()\n",
    "\n",
    "vgg_model.add(Cropping2D(cropping=((65,40),(0,0)),input_shape=(160,320,3)))\n",
    "vgg_model.add(Lambda(lambda x:K.tf.image.resize_images(x,(224,224),\n",
    "                                                       method=K.tf.image.ResizeMethod.NEAREST_NEIGHBOR)))\n",
    "vgg_model.add(Lambda(lambda x:((x-K.mean(x))/K.std(x))))\n",
    "\n",
    "vgg_model.add(Conv2D(64,(3,3),strides=(1,1),padding='valid',activation='relu'))\n",
    "vgg_model.add(Conv2D(64,(3,3),strides=(1,1),padding='valid',activation='relu'))\n",
    "vgg_model.add(MaxPooling2D(strides=(1,1),padding='valid'))\n",
    "vgg_model.add(Conv2D(128,(3,3),strides=(1,1),padding='valid',activation='relu'))\n",
    "vgg_model.add(Conv2D(128,(3,3),strides=(1,1),padding='valid',activation='relu'))\n",
    "vgg_model.add(MaxPooling2D(strides=(1,1),padding='valid'))\n",
    "vgg_model.add(Conv2D(256,(3,3),strides=(1,1),padding='valid',activation='relu'))\n",
    "vgg_model.add(Conv2D(256,(3,3),strides=(1,1),padding='valid',activation='relu'))\n",
    "vgg_model.add(MaxPooling2D(strides=(1,1),padding='valid'))\n",
    "vgg_model.add(Conv2D(512,(3,3),strides=(1,1),padding='valid',activation='relu'))\n",
    "vgg_model.add(Conv2D(512,(3,3),strides=(1,1),padding='valid',activation='relu'))\n",
    "vgg_model.add(Conv2D(512,(3,3),strides=(1,1),padding='valid',activation='relu'))\n",
    "vgg_model.add(Conv2D(512,(3,3),strides=(1,1),padding='valid',activation='relu'))\n",
    "vgg_model.add(MaxPooling2D(strides=(1,1),padding='valid'))\n",
    "vgg_model.add(Conv2D(512,(3,3),strides=(1,1),padding='valid',activation='relu'))\n",
    "vgg_model.add(Conv2D(512,(3,3),strides=(1,1),padding='valid',activation='relu'))\n",
    "vgg_model.add(Conv2D(512,(3,3),strides=(1,1),padding='valid',activation='relu'))\n",
    "vgg_model.add(Conv2D(512,(3,3),strides=(1,1),padding='valid',activation='relu'))\n",
    "vgg_model.add(MaxPooling2D(strides=(1,1),padding='valid'))\n",
    "\n",
    "vgg_model.add(Flatten())\n",
    "vgg_model.add(Dense(100,activation='relu'))\n",
    "vgg_model.add(Dense(50,activation='relu'))\n",
    "vgg_model.add(Dense(10,activation='relu'))\n",
    "vgg_model.add(Dense(1))"
   ]
  },
  {
   "cell_type": "code",
   "execution_count": 19,
   "metadata": {},
   "outputs": [
    {
     "name": "stdout",
     "output_type": "stream",
     "text": [
      "_________________________________________________________________\n",
      "Layer (type)                 Output Shape              Param #   \n",
      "=================================================================\n",
      "cropping2d_4 (Cropping2D)    (None, 55, 320, 3)        0         \n",
      "_________________________________________________________________\n",
      "lambda_7 (Lambda)            (None, 224, 224, 3)       0         \n",
      "_________________________________________________________________\n",
      "lambda_8 (Lambda)            (None, 224, 224, 3)       0         \n",
      "_________________________________________________________________\n",
      "conv2d_43 (Conv2D)           (None, 224, 224, 64)      1792      \n",
      "_________________________________________________________________\n",
      "conv2d_44 (Conv2D)           (None, 224, 224, 64)      36928     \n",
      "_________________________________________________________________\n",
      "max_pooling2d_16 (MaxPooling (None, 224, 224, 64)      0         \n",
      "_________________________________________________________________\n",
      "conv2d_45 (Conv2D)           (None, 224, 224, 128)     73856     \n",
      "_________________________________________________________________\n",
      "conv2d_46 (Conv2D)           (None, 224, 224, 128)     147584    \n",
      "_________________________________________________________________\n",
      "max_pooling2d_17 (MaxPooling (None, 224, 224, 128)     0         \n",
      "_________________________________________________________________\n",
      "conv2d_47 (Conv2D)           (None, 224, 224, 256)     295168    \n",
      "_________________________________________________________________\n",
      "conv2d_48 (Conv2D)           (None, 224, 224, 256)     590080    \n",
      "_________________________________________________________________\n",
      "max_pooling2d_18 (MaxPooling (None, 224, 224, 256)     0         \n",
      "_________________________________________________________________\n",
      "conv2d_49 (Conv2D)           (None, 224, 224, 512)     1180160   \n",
      "_________________________________________________________________\n",
      "conv2d_50 (Conv2D)           (None, 224, 224, 512)     2359808   \n",
      "_________________________________________________________________\n",
      "conv2d_51 (Conv2D)           (None, 224, 224, 512)     2359808   \n",
      "_________________________________________________________________\n",
      "conv2d_52 (Conv2D)           (None, 224, 224, 512)     2359808   \n",
      "_________________________________________________________________\n",
      "max_pooling2d_19 (MaxPooling (None, 224, 224, 512)     0         \n",
      "_________________________________________________________________\n",
      "conv2d_53 (Conv2D)           (None, 224, 224, 512)     2359808   \n",
      "_________________________________________________________________\n",
      "conv2d_54 (Conv2D)           (None, 224, 224, 512)     2359808   \n",
      "_________________________________________________________________\n",
      "conv2d_55 (Conv2D)           (None, 224, 224, 512)     2359808   \n",
      "_________________________________________________________________\n",
      "conv2d_56 (Conv2D)           (None, 224, 224, 512)     2359808   \n",
      "_________________________________________________________________\n",
      "max_pooling2d_20 (MaxPooling (None, 224, 224, 512)     0         \n",
      "_________________________________________________________________\n",
      "flatten_4 (Flatten)          (None, 25690112)          0         \n",
      "_________________________________________________________________\n",
      "dense_10 (Dense)             (None, 100)               2569011300\n",
      "_________________________________________________________________\n",
      "dense_11 (Dense)             (None, 50)                5050      \n",
      "_________________________________________________________________\n",
      "dense_12 (Dense)             (None, 10)                510       \n",
      "_________________________________________________________________\n",
      "dense_13 (Dense)             (None, 1)                 11        \n",
      "=================================================================\n",
      "Total params: 2,587,861,095\n",
      "Trainable params: 2,587,861,095\n",
      "Non-trainable params: 0\n",
      "_________________________________________________________________\n"
     ]
    }
   ],
   "source": [
    "vgg_model.summary()"
   ]
  }
 ],
 "metadata": {
  "kernelspec": {
   "display_name": "Python 3",
   "language": "python",
   "name": "python3"
  },
  "language_info": {
   "codemirror_mode": {
    "name": "ipython",
    "version": 3
   },
   "file_extension": ".py",
   "mimetype": "text/x-python",
   "name": "python",
   "nbconvert_exporter": "python",
   "pygments_lexer": "ipython3",
   "version": "3.6.1"
  },
  "widgets": {
   "state": {},
   "version": "1.1.2"
  }
 },
 "nbformat": 4,
 "nbformat_minor": 1
}
